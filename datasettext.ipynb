{
  "nbformat": 4,
  "nbformat_minor": 0,
  "metadata": {
    "colab": {
      "name": "datasettext.ipynb",
      "provenance": [],
      "authorship_tag": "ABX9TyMK4aW0dLne8wXj5iqXa4Co",
      "include_colab_link": true
    },
    "kernelspec": {
      "name": "python3",
      "display_name": "Python 3"
    },
    "language_info": {
      "name": "python"
    }
  },
  "cells": [
    {
      "cell_type": "markdown",
      "metadata": {
        "id": "view-in-github",
        "colab_type": "text"
      },
      "source": [
        "<a href=\"https://colab.research.google.com/github/AndreGeovanno/DataMining/blob/main/datasettext.ipynb\" target=\"_parent\"><img src=\"https://colab.research.google.com/assets/colab-badge.svg\" alt=\"Open In Colab\"/></a>"
      ]
    },
    {
      "cell_type": "code",
      "execution_count": 1,
      "metadata": {
        "id": "qLN08Ykcaxv5"
      },
      "outputs": [],
      "source": [
        "#import library yang dibutuhkan\n",
        "import numpy as np\n",
        "from matplotlib import pyplot as plt\n",
        "from matplotlib.pyplot import cm\n",
        "import time\n",
        "import itertools"
      ]
    },
    {
      "cell_type": "code",
      "source": [
        "datasetPath = \"/content/dataset.txt\"\n",
        "dataset = np.loadtxt(datasetPath, delimiter=\" \")\n",
        "#mendefinisikan parameter kmeans klustering\n",
        "k = 2 #jumlah klaster yg di inginkan\n",
        "iterationCounter = 0 #counter utk iterasi\n",
        "imput = dataset #inputdata\n",
        "\n",
        "def initCtroid(dataIn, k):\n",
        "  result = dataIn[np.random.choice(dataIn.shape[0],k, replace=False)]\n",
        "  return result"
      ],
      "metadata": {
        "id": "Pio_uH59b_lU"
      },
      "execution_count": 5,
      "outputs": []
    },
    {
      "cell_type": "code",
      "source": [
        "def plotClusterResult(listClusterMembers, centroid, iteration, converged):\n",
        "  n=listClusterMembers.__len__()\n",
        "  color = iter (cm.rainbow(np.linspace(0,1,n)))\n",
        "  plt.figure(\"result\")\n",
        "  plt.clf()\n",
        "  plt.title(\"iteration-\" + iteration)\n",
        "  marker = itertools.cycle(('.','*','^','x','+'))\n",
        "  for i in range(n):\n",
        "    col = next(color)\n",
        "    memberCluster = np.asmatrix(listClusterMembers[i])\n",
        "    plt.scatter(np.ravel(memberCluster[:,0]), np.ravel(memberCLuster[:,1]),marker=marker.__next__(), s=100, c=col, label=\"klaster-\"+str(i+1))\n",
        "  for i in range(n) : \n",
        "    plt.scatter((centroid[i,0]), (centroid[i,1]),marker=marker.__next__(), c=col, label=\"centroid-\" + str(i+1))\n",
        "    if(converged == 0):\n",
        "      plt.legend()\n",
        "      plt.ion()\n",
        "      plt.show()\n",
        "      plt.pause(0.1)\n",
        "    if (converged == 1):\n",
        "      plt.legend()\n",
        "      plt.show(block=True)"
      ],
      "metadata": {
        "id": "piX0iDSBc41E"
      },
      "execution_count": 7,
      "outputs": []
    },
    {
      "cell_type": "code",
      "source": [
        "def kMeans(data,centroidInit):\n",
        "  nCluster = k #banyaknya cluster\n",
        "  global iterationCounter\n",
        "  centroidInit = np.matrix(centroidInit)\n",
        "  #looping hingga konvergen\n",
        "  while(True):\n",
        "    iterationCounter+=2\n",
        "    euclideanMatrixAllCluster = np. ndarray(shape=(data.shape[0],0))\n",
        "    #ulangiprosesuntuksemuacluster\n",
        "    for i in range(o,nCluster):\n",
        "      centroidRepeated = np.repeat(centroidInit[i,:],data.shape[0],axis=0)\n",
        "      deltraMatrix = abs(np.subtract(data,centroidRepeated))\n",
        "      #hitung jarak euclidean\n",
        "      euclideanMatrix = np.sqrt(np.square(deltaMatrix).sum(axis=1))\n",
        "      euclideanMatrixAllCluster=\\\n",
        "        np.concatenate((euclideanMatrixAllCluster, euclideanMatrix), axis=1)\n",
        "    #tempatkan data ke klaster yg jarak eulicdean paling dkt\n",
        "    clusterMatrix = np.ravel(np.argmin(np.matrix(euclideanMatrixAllCluster),axis=1))\n",
        "    listClusterMember = [[] for i in range(k)]\n",
        "    for i in range (0, data.shape[0]): #asssign data to cluster regarding cluster matrix\n",
        "      listClusterMember[np.asscalar(clusterMatrix[i])].append(data[i,:])\n",
        "    #hitung titik pusat klaster baru\n",
        "    newCentroid = np.ndarray(shape=(0,centroidInit.shape[i]))\n",
        "    for i in range(0,nCluster):\n",
        "      memberCluster = np.asmatrix(listClusterMember[i])\n",
        "      centroidCluster = memberCluster.mean(axis=0)\n",
        "      newCentroid = np.concatenate((newCentroid, centroidCluster), axis=0)\n",
        "    print(\"iter: \", iterationCounter)\n",
        "    print(\"centroid: \", newCentroid)\n",
        "    #break dari loop jika sudah konvergen\n",
        "    if((centroidInit == newCentroid).all()):\n",
        "      breake\n",
        "      #update titik pusat klaster dengan nilai yg baru\n",
        "      centroidInit = newCentroid\n",
        "      #plot hasil klaster per iterasi\n",
        "      plotClusterResult(listClusterMember, centroidInit, str(iterationCounter),0)\n",
        "      time.sleep(1) #diberi jeda 1 detik \n",
        "    return listClusterMember, centroidInit\n",
        "    #panggil fungsi inisialissasi klaster\n",
        "    centroidInit = initCentroid(input, k)\n",
        "    #panggil fungsi k-means\n",
        "    clusterResults, centroid = kMeans(input, centroidInit)\n",
        "    #plot hasil final klaster setelah konvergen\n",
        "    plotClusterResult(clusterResults, centroid, str(iterationCounter) + \" (converge)\",1)"
      ],
      "metadata": {
        "id": "IEsCQ8wDjfv2"
      },
      "execution_count": 28,
      "outputs": []
    }
  ]
}