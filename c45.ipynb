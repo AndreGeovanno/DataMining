{
  "nbformat": 4,
  "nbformat_minor": 0,
  "metadata": {
    "colab": {
      "name": "c45.ipynb",
      "provenance": [],
      "authorship_tag": "ABX9TyMv4C850TRVLfzrifaFTvRS",
      "include_colab_link": true
    },
    "kernelspec": {
      "name": "python3",
      "display_name": "Python 3"
    },
    "language_info": {
      "name": "python"
    }
  },
  "cells": [
    {
      "cell_type": "markdown",
      "metadata": {
        "id": "view-in-github",
        "colab_type": "text"
      },
      "source": [
        "<a href=\"https://colab.research.google.com/github/AndreGeovanno/DataMining/blob/main/c45.ipynb\" target=\"_parent\"><img src=\"https://colab.research.google.com/assets/colab-badge.svg\" alt=\"Open In Colab\"/></a>"
      ]
    },
    {
      "cell_type": "code",
      "execution_count": 3,
      "metadata": {
        "id": "3ed_zu5CgNm1"
      },
      "outputs": [],
      "source": [
        "import numpy as np\n",
        "import pandas as pd\n",
        "from sklearn import tree"
      ]
    },
    {
      "cell_type": "code",
      "source": [
        "socialDataset = pd.read_csv('Social_Network_Ads.csv', delimiter=',',header=0)"
      ],
      "metadata": {
        "id": "SZ3U6eBtsGgJ"
      },
      "execution_count": 13,
      "outputs": []
    },
    {
      "cell_type": "code",
      "source": [
        "socialDataset[\"Gender\"] = pd.factorize(socialDataset.Gender)[0]"
      ],
      "metadata": {
        "id": "KL5IzqAkwUzC"
      },
      "execution_count": 14,
      "outputs": []
    },
    {
      "cell_type": "code",
      "source": [
        "socialDataset = socialDataset.drop(labels=\"User ID\",axis=1)"
      ],
      "metadata": {
        "id": "mLiEV1WTwdR7"
      },
      "execution_count": 17,
      "outputs": []
    },
    {
      "cell_type": "code",
      "source": [
        "socialDataset = socialDataset.to_numpy()"
      ],
      "metadata": {
        "id": "CAy4I7V8wk6q"
      },
      "execution_count": 18,
      "outputs": []
    },
    {
      "cell_type": "code",
      "source": [
        "dataTraining =  np.concatenate((socialDataset[0:40,:],socialDataset[50:90,:]), axis=0)\n",
        "dataTesting =  np.concatenate((socialDataset[40:50,:],socialDataset[90:100,:]), axis=0)"
      ],
      "metadata": {
        "id": "5_l0YuIZzFJi"
      },
      "execution_count": 19,
      "outputs": []
    },
    {
      "cell_type": "code",
      "source": [
        "inputTraining = dataTraining[:,0:3]\n",
        "inputTesting = dataTesting[:,0:3]\n",
        "labelTraining = dataTraining[:,3]\n",
        "labelTesting = dataTesting[:,3]"
      ],
      "metadata": {
        "id": "yO5U07GDz2U5"
      },
      "execution_count": 22,
      "outputs": []
    },
    {
      "cell_type": "code",
      "source": [
        "model = tree.DecisionTreeClassifier()\n",
        "model = model.fit(inputTraining, labelTraining)\n",
        "hasilPrediksi = model.predict(inputTesting)\n",
        "print(\"Label Sebenarnya \",labelTesting)\n",
        "print(\"hasil prediksi: \", hasilPrediksi)\n",
        "prediksiBenar=(hasilPrediksi== labelTesting).sum()\n",
        "prediksiSalah=(hasilPrediksi!= labelTesting).sum()\n",
        "print(\"prediksi benar: \", prediksiBenar, \"data\")\n",
        "print(\"prediksi salah: \", prediksiSalah, \"data\")\n",
        "print(\"akurasi: \", prediksiBenar/(prediksiBenar+prediksiSalah)*100, \"%\")"
      ],
      "metadata": {
        "colab": {
          "base_uri": "https://localhost:8080/"
        },
        "id": "7q3CbJQm0kHL",
        "outputId": "3782990d-f1ac-4f5c-9644-dfa700b0c2ba"
      },
      "execution_count": 23,
      "outputs": [
        {
          "output_type": "stream",
          "name": "stdout",
          "text": [
            "Label Sebenarnya  [0 0 0 0 0 0 0 0 1 0 0 0 0 0 0 0 0 1 0 0]\n",
            "hasil prediksi:  [0 0 1 0 0 0 0 0 1 0 0 0 0 0 0 0 0 1 0 0]\n",
            "prediksi benar:  19 data\n",
            "prediksi salah:  1 data\n",
            "akurasi:  95.0 %\n"
          ]
        }
      ]
    }
  ]
}