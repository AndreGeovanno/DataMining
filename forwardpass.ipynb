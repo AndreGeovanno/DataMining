{
  "nbformat": 4,
  "nbformat_minor": 0,
  "metadata": {
    "colab": {
      "name": "forwardpass.ipynb",
      "provenance": [],
      "authorship_tag": "ABX9TyOohshLvxHRAJ0SnyfZveew",
      "include_colab_link": true
    },
    "kernelspec": {
      "name": "python3",
      "display_name": "Python 3"
    },
    "language_info": {
      "name": "python"
    }
  },
  "cells": [
    {
      "cell_type": "markdown",
      "metadata": {
        "id": "view-in-github",
        "colab_type": "text"
      },
      "source": [
        "<a href=\"https://colab.research.google.com/github/AndreGeovanno/DataMining/blob/main/forwardpass.ipynb\" target=\"_parent\"><img src=\"https://colab.research.google.com/assets/colab-badge.svg\" alt=\"Open In Colab\"/></a>"
      ]
    },
    {
      "cell_type": "code",
      "execution_count": 1,
      "metadata": {
        "id": "zhsTaGVBX-J2"
      },
      "outputs": [],
      "source": [
        "import numpy as np"
      ]
    },
    {
      "cell_type": "code",
      "source": [
        "def forwardPass(inputs, weight, bias):\n",
        "  w_sum=np.dot(inputs, weight)+bias\n",
        "  act=w_sum\n",
        "  return act\n",
        "w = np.array([[2.99999928]])\n",
        "b = np.array([[1.99999976]])\n",
        "inputs=np.array([[7],[8],[9],[10]])\n",
        "o_out = forwardPass(inputs, w, b)\n",
        "print('Output Layer Output(Linear)')\n",
        "print('============================')\n",
        "print(o_out,\"\\n\")"
      ],
      "metadata": {
        "colab": {
          "base_uri": "https://localhost:8080/"
        },
        "id": "V_4WXzKsY16P",
        "outputId": "78505b43-fe5e-4ae7-cda1-232c53723dab"
      },
      "execution_count": 5,
      "outputs": [
        {
          "output_type": "stream",
          "name": "stdout",
          "text": [
            "Output Layer Output(Linear)\n",
            "============================\n",
            "[[22.99999472]\n",
            " [25.999994  ]\n",
            " [28.99999328]\n",
            " [31.99999256]] \n",
            "\n"
          ]
        }
      ]
    }
  ]
}